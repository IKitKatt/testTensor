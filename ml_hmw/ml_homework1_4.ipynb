{
 "cells": [
  {
   "cell_type": "code",
   "execution_count": 27,
   "id": "2dd88429-54fd-4442-a64d-b7d46e55b4ef",
   "metadata": {},
   "outputs": [],
   "source": [
    "import numpy as np\n",
    "import time"
   ]
  },
  {
   "cell_type": "code",
   "execution_count": 28,
   "id": "2dddc31f-a4b3-4780-86f5-314e1df58302",
   "metadata": {},
   "outputs": [],
   "source": [
    "# Задаем параметры\n",
    "n_features = 100\n",
    "n_objects = 10000\n",
    "num_steps = 2\n",
    "np.random.seed(1)"
   ]
  },
  {
   "cell_type": "code",
   "execution_count": 29,
   "id": "ac7ce4d0-3bdc-4c47-ae89-0fe7d4dab4da",
   "metadata": {},
   "outputs": [],
   "source": [
    "# Генерация данных\n",
    "w_true = np.random.normal(0, 0.1, size=(n_features, ))\n",
    "w_0 = np.random.uniform(-2, 2, (n_features,))\n",
    "X = np.random.uniform(-5, 5, (n_objects, n_features))\n",
    "y = np.dot(X, w_true) + np.random.normal(0, 1, (n_objects))"
   ]
  },
  {
   "cell_type": "code",
   "execution_count": 30,
   "id": "9ead18ec-2dbe-4550-b486-36b9d6494fa3",
   "metadata": {},
   "outputs": [],
   "source": [
    "# Функция для вычисления ошибки\n",
    "def compute_error(X, y, w):\n",
    "    return np.mean((np.dot(X, w) - y) ** 2)"
   ]
  },
  {
   "cell_type": "code",
   "execution_count": 31,
   "id": "08131a0e-6acf-4b1d-83f7-0aaa613831e7",
   "metadata": {},
   "outputs": [],
   "source": [
    "# Обычный градиентный спуск\n",
    "def gradient_descent(X, y, w_0, num_steps, alpha=0.01):\n",
    "    w = w_0\n",
    "    for step in range(num_steps):\n",
    "        # Обычный градиент\n",
    "        grad = np.dot(X.T, np.dot(X, w) - y) / len(y)\n",
    "        w = w - alpha * grad\n",
    "    return w"
   ]
  },
  {
   "cell_type": "code",
   "execution_count": 32,
   "id": "57e2f603-3e53-4aa1-aa8c-1b9d6b7e2e58",
   "metadata": {},
   "outputs": [],
   "source": [
    "# Матричный градиентный спуск\n",
    "def matrix_gradient(X, y, w_0, num_steps, alpha=0.01):\n",
    "    w = w_0\n",
    "    for step in range(num_steps):\n",
    "        # Матричный градиент\n",
    "        grad = 2 * np.dot(X.T, np.dot(X, w) - y) / len(y)\n",
    "        w = w - alpha * grad\n",
    "    return w"
   ]
  },
  {
   "cell_type": "code",
   "execution_count": 37,
   "id": "8f2a9e91-1c95-4cc9-a620-4c4f512e7a8d",
   "metadata": {},
   "outputs": [],
   "source": [
    "# Тесты\n",
    "## Тест на обычном градиентном спуске\n",
    "start_time = time.time()\n",
    "w_gd = gradient_descent(X, y, w_0, num_steps)\n",
    "time_gd = (time.time() - start_time) * 1000\n",
    "\n",
    "## Тест на матричном градиенте\n",
    "start_time = time.time()\n",
    "w_matrix = matrix_gradient(X, y, w_0, num_steps)\n",
    "time_matrix = (time.time() - start_time) * 1000"
   ]
  },
  {
   "cell_type": "code",
   "execution_count": 40,
   "id": "3c08c7f0-2ff8-48a6-8606-20524579d365",
   "metadata": {},
   "outputs": [],
   "source": [
    "# Сравниваем ошибки\n",
    "error_gd = compute_error(X, y, w_gd)\n",
    "error_matrix = compute_error(X, y, w_matrix)"
   ]
  },
  {
   "cell_type": "code",
   "execution_count": 42,
   "id": "258ac79e-b49e-416a-a041-8d001f10c7a6",
   "metadata": {},
   "outputs": [
    {
     "name": "stdout",
     "output_type": "stream",
     "text": [
      "Время работы обычного градиентного спуска: 0.775337 миллисекунд.\n",
      "Время работы матричного градиентного спуска: 1.554966 миллисекунд.\n",
      "Ускорение за счет использования матричных операций: 0.50 раз\n",
      "\n",
      "Ошибка обычного градиентного спуска: 874.889658\n",
      "Ошибка матричного градиентного спуска: 598.838383\n"
     ]
    }
   ],
   "source": [
    "# Выводим результаты\n",
    "print(f\"Время работы обычного градиентного спуска: {time_gd:.6f} миллисекунд.\")\n",
    "print(f\"Время работы матричного градиентного спуска: {time_matrix:.6f} миллисекунд.\")\n",
    "print(f\"Ускорение за счет использования матричных операций: {time_gd / time_matrix:.2f} раз\")\n",
    "\n",
    "print(f\"\\nОшибка обычного градиентного спуска: {error_gd:.6f}\")\n",
    "print(f\"Ошибка матричного градиентного спуска: {error_matrix:.6f}\")"
   ]
  }
 ],
 "metadata": {
  "kernelspec": {
   "display_name": "Python 3 (ipykernel)",
   "language": "python",
   "name": "python3"
  },
  "language_info": {
   "codemirror_mode": {
    "name": "ipython",
    "version": 3
   },
   "file_extension": ".py",
   "mimetype": "text/x-python",
   "name": "python",
   "nbconvert_exporter": "python",
   "pygments_lexer": "ipython3",
   "version": "3.9.21"
  }
 },
 "nbformat": 4,
 "nbformat_minor": 5
}
