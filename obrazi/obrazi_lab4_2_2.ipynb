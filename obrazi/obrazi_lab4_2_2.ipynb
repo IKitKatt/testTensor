{
 "cells": [
  {
   "cell_type": "code",
   "execution_count": 2,
   "id": "20b035ea-0629-4db4-bb9f-d1b4d5a1f4e7",
   "metadata": {},
   "outputs": [],
   "source": [
    "import os\n",
    "import numpy as np\n",
    "import tensorflow as tf\n",
    "from tensorflow.keras.models import load_model\n",
    "from tensorflow.keras.preprocessing.image import load_img, img_to_array\n",
    "import matplotlib.pyplot as plt\n",
    "from tensorflow.keras.applications.vgg16 import preprocess_input\n",
    "import cv2"
   ]
  },
  {
   "cell_type": "code",
   "execution_count": 3,
   "id": "75270657-cb2a-40c1-b2b1-9ac75492ce8d",
   "metadata": {},
   "outputs": [],
   "source": [
    "# Параметры\n",
    "IMG_SIZE = 200\n",
    "MODEL_PATH = 'imagenet_classifier.h5'\n",
    "DATA_PATH = 'эD:/Soft/kagglecatsanddogs_3367a/lab3/var5'  # Путь к папке с данными"
   ]
  },
  {
   "cell_type": "code",
   "execution_count": 4,
   "id": "5ffc0fcb-226f-42d9-8bbe-3001cc99c5f0",
   "metadata": {},
   "outputs": [
    {
     "name": "stdout",
     "output_type": "stream",
     "text": [
      "Model loaded successfully.\n"
     ]
    }
   ],
   "source": [
    "# Шаг 1: Загрузка модели\n",
    "model = load_model(MODEL_PATH)\n",
    "print(\"Model loaded successfully.\")\n",
    "\n",
    "# Функция для визуализации активаций\n",
    "def visualize_activations(model, image_path, layer_names):\n",
    "    img = load_img(image_path, target_size=(IMG_SIZE, IMG_SIZE))\n",
    "    img_array = img_to_array(img)\n",
    "    img_array = preprocess_input(np.expand_dims(img_array, axis=0))\n",
    "\n",
    "    layer_outputs = [layer.output for layer in model.layers if layer.name in layer_names]\n",
    "    activation_model = tf.keras.models.Model(inputs=model.input, outputs=layer_outputs)\n",
    "    activations = activation_model.predict(img_array)\n",
    "\n",
    "    for layer_name, activation in zip(layer_names, activations):\n",
    "        num_filters = activation.shape[-1]\n",
    "        size = activation.shape[1]\n",
    "        n_cols = num_filters // 8\n",
    "        display_grid = np.zeros((size * n_cols, 8 * size))\n",
    "\n",
    "        for col in range(n_cols):\n",
    "            for row in range(8):\n",
    "                channel_image = activation[0, :, :, col * 8 + row]\n",
    "                channel_image -= channel_image.mean()\n",
    "                channel_image /= (channel_image.std() + 1e-5)\n",
    "                channel_image *= 64\n",
    "                channel_image += 128\n",
    "                channel_image = np.clip(channel_image, 0, 255).astype('uint8')\n",
    "                display_grid[col * size: (col + 1) * size, row * size: (row + 1) * size] = channel_image\n",
    "\n",
    "        scale = 1.0 / size\n",
    "        plt.figure(figsize=(scale * display_grid.shape[1], scale * display_grid.shape[0]))\n",
    "        plt.title(layer_name)\n",
    "        plt.grid(False)\n",
    "        plt.imshow(display_grid, aspect='auto', cmap='viridis')\n",
    "        plt.show()"
   ]
  },
  {
   "cell_type": "code",
   "execution_count": 5,
   "id": "383b8862-eddd-4c14-9a32-c09c818f945a",
   "metadata": {},
   "outputs": [
    {
     "ename": "OSError",
     "evalue": "[WinError 123] Синтаксическая ошибка в имени файла, имени папки или метке тома: 'эD:/Soft/kagglecatsanddogs_3367a/lab3/var5'",
     "output_type": "error",
     "traceback": [
      "\u001b[1;31m---------------------------------------------------------------------------\u001b[0m",
      "\u001b[1;31mOSError\u001b[0m                                   Traceback (most recent call last)",
      "Cell \u001b[1;32mIn[5], line 2\u001b[0m\n\u001b[0;32m      1\u001b[0m \u001b[38;5;66;03m# Шаг 2: Визуализация активаций для одного изображения из каждого класса\u001b[39;00m\n\u001b[1;32m----> 2\u001b[0m class_folders \u001b[38;5;241m=\u001b[39m \u001b[43mos\u001b[49m\u001b[38;5;241;43m.\u001b[39;49m\u001b[43mlistdir\u001b[49m\u001b[43m(\u001b[49m\u001b[43mDATA_PATH\u001b[49m\u001b[43m)\u001b[49m\n\u001b[0;32m      3\u001b[0m layer_names \u001b[38;5;241m=\u001b[39m [layer\u001b[38;5;241m.\u001b[39mname \u001b[38;5;28;01mfor\u001b[39;00m layer \u001b[38;5;129;01min\u001b[39;00m model\u001b[38;5;241m.\u001b[39mlayers \u001b[38;5;28;01mif\u001b[39;00m \u001b[38;5;124m'\u001b[39m\u001b[38;5;124mconv\u001b[39m\u001b[38;5;124m'\u001b[39m \u001b[38;5;129;01min\u001b[39;00m layer\u001b[38;5;241m.\u001b[39mname]\n\u001b[0;32m      5\u001b[0m \u001b[38;5;28;01mfor\u001b[39;00m class_folder \u001b[38;5;129;01min\u001b[39;00m class_folders:\n",
      "\u001b[1;31mOSError\u001b[0m: [WinError 123] Синтаксическая ошибка в имени файла, имени папки или метке тома: 'эD:/Soft/kagglecatsanddogs_3367a/lab3/var5'"
     ]
    }
   ],
   "source": [
    "# Шаг 2: Визуализация активаций для одного изображения из каждого класса\n",
    "class_folders = os.listdir(DATA_PATH)\n",
    "layer_names = [layer.name for layer in model.layers if 'conv' in layer.name]\n",
    "\n",
    "for class_folder in class_folders:\n",
    "    image_path = os.path.join(DATA_PATH, class_folder, os.listdir(os.path.join(DATA_PATH, class_folder))[0])\n",
    "    print(f\"Visualizing activations for class: {class_folder}\")\n",
    "    visualize_activations(model, image_path, layer_names)\n",
    "\n"
   ]
  },
  {
   "cell_type": "code",
   "execution_count": null,
   "id": "64a1e281-a839-4a26-9b8f-a9bb5bc4d81a",
   "metadata": {},
   "outputs": [],
   "source": [
    "# Шаг 3: Визуализация фильтров\n",
    "for layer in model.layers:\n",
    "    if 'conv' in layer.name:\n",
    "        filters, biases = layer.get_weights()\n",
    "        n_filters = filters.shape[-1]\n",
    "\n",
    "        for i in range(min(n_filters, 8)):\n",
    "            f = filters[:, :, :, i]\n",
    "            f_min, f_max = f.min(), f.max()\n",
    "            f = (f - f_min) / (f_max - f_min)\n",
    "            plt.imshow(f[:, :, 0], cmap='viridis')\n",
    "            plt.title(f\"Filter {i} in layer {layer.name}\")\n",
    "            plt.show()\n",
    "            plt.savefig('test5.png')\n",
    "\n"
   ]
  },
  {
   "cell_type": "code",
   "execution_count": null,
   "id": "bf58905e-c60d-4040-bc35-83eab1b5bb9a",
   "metadata": {},
   "outputs": [],
   "source": [
    "# Шаг 4: Визуализация тепловых карт активации класса\n",
    "from tensorflow.keras import backend as K\n",
    "\n",
    "def make_gradcam_heatmap(img_array, model, last_conv_layer_name, pred_index=None):\n",
    "    grad_model = tf.keras.models.Model(\n",
    "        [model.inputs], [model.get_layer(last_conv_layer_name).output, model.output]\n",
    "    )\n",
    "\n",
    "    with tf.GradientTape() as tape:\n",
    "        conv_outputs, predictions = grad_model(img_array)\n",
    "        if pred_index is None:\n",
    "            pred_index = tf.argmax(predictions[0])\n",
    "        class_channel = predictions[:, pred_index]\n",
    "\n",
    "    grads = tape.gradient(class_channel, conv_outputs)\n",
    "    pooled_grads = tf.reduce_mean(grads, axis=(0, 1, 2))\n",
    "\n",
    "    conv_outputs = conv_outputs[0]\n",
    "    heatmap = conv_outputs @ pooled_grads[..., tf.newaxis]\n",
    "    heatmap = tf.squeeze(heatmap)\n",
    "\n",
    "    heatmap = tf.maximum(heatmap, 0) / tf.math.reduce_max(heatmap)\n",
    "    return heatmap.numpy()\n",
    "\n",
    "last_conv_layer_name = layer_names[-1]\n",
    "\n",
    "for class_folder in class_folders:\n",
    "    image_path = os.path.join(DATA_PATH, class_folder, os.listdir(os.path.join(DATA_PATH, class_folder))[0])\n",
    "    img = load_img(image_path, target_size=(IMG_SIZE, IMG_SIZE))\n",
    "    img_array = preprocess_input(np.expand_dims(img_to_array(img), axis=0))\n",
    "\n",
    "    heatmap = make_gradcam_heatmap(img_array, model, last_conv_layer_name)\n",
    "\n",
    "    img = cv2.imread(image_path)\n",
    "    img = cv2.resize(img, (IMG_SIZE, IMG_SIZE))\n",
    "    heatmap = cv2.resize(heatmap, (img.shape[1], img.shape[0]))\n",
    "    heatmap = np.uint8(255 * heatmap)\n",
    "    heatmap = cv2.applyColorMap(heatmap, cv2.COLORMAP_JET)\n",
    "\n",
    "    superimposed_img = cv2.addWeighted(img, 0.6, heatmap, 0.4, 0)\n",
    "\n",
    "    plt.figure(figsize=(10, 5))\n",
    "    plt.subplot(1, 2, 1)\n",
    "    plt.imshow(cv2.cvtColor(img, cv2.COLOR_BGR2RGB))\n",
    "    plt.title(\"Original Image\")\n",
    "\n",
    "    plt.subplot(1, 2, 2)\n",
    "    plt.imshow(cv2.cvtColor(superimposed_img, cv2.COLOR_BGR2RGB))\n",
    "    plt.title(\"Class Activation Heatmap\")\n",
    "    plt.show()\n",
    "    plt.savefig('test6')"
   ]
  }
 ],
 "metadata": {
  "kernelspec": {
   "display_name": "Python 3 (ipykernel)",
   "language": "python",
   "name": "python3"
  },
  "language_info": {
   "codemirror_mode": {
    "name": "ipython",
    "version": 3
   },
   "file_extension": ".py",
   "mimetype": "text/x-python",
   "name": "python",
   "nbconvert_exporter": "python",
   "pygments_lexer": "ipython3",
   "version": "3.9.21"
  }
 },
 "nbformat": 4,
 "nbformat_minor": 5
}
