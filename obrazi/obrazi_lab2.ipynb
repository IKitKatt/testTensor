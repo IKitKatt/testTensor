{
 "cells": [
  {
   "cell_type": "code",
   "execution_count": 6,
   "id": "fa77d46f-aa6d-4b1c-9424-a1d11844f420",
   "metadata": {},
   "outputs": [
    {
     "name": "stdout",
     "output_type": "stream",
     "text": [
      "Все файлы в папке 'D:/PetImages/train/cats' корректны.\n",
      "Все файлы в папке 'D:/PetImages/train/dogs' корректны.\n"
     ]
    }
   ],
   "source": [
    "import os\n",
    "from PIL import Image\n",
    "\n",
    "def is_valid_image(file_path):\n",
    "    \"\"\"\n",
    "    Проверяет, является ли файл изображением и не поврежден ли он.\n",
    "    \"\"\"\n",
    "    try:\n",
    "        with Image.open(file_path) as img:\n",
    "            img.verify()  # Проверка целостности изображения\n",
    "        return True\n",
    "    except (IOError, SyntaxError):\n",
    "        return False\n",
    "\n",
    "def clean_folder(folder_path):\n",
    "    \"\"\"\n",
    "    Удаляет поврежденные изображения из указанной папки.\n",
    "    \"\"\"\n",
    "    removed_files = []\n",
    "    for file_name in os.listdir(folder_path):\n",
    "        file_path = os.path.join(folder_path, file_name)\n",
    "        \n",
    "        # Проверяем только файлы (не папки)\n",
    "        if os.path.isfile(file_path):\n",
    "            if not is_valid_image(file_path):\n",
    "                removed_files.append(file_path)\n",
    "                os.remove(file_path)\n",
    "                print(f\"Удален поврежденный файл: {file_path}\")\n",
    "    \n",
    "    if not removed_files:\n",
    "        print(f\"Все файлы в папке '{folder_path}' корректны.\")\n",
    "    else:\n",
    "        print(f\"Удалено {len(removed_files)} поврежденных файла(ов) из папки '{folder_path}'.\")\n",
    "\n",
    "# Указываем пути к папкам\n",
    "folder1 = \"D:/PetImages/train/cats\"\n",
    "folder2 = \"D:/PetImages/train/dogs\"\n",
    "\n",
    "# Очищаем обе папки\n",
    "clean_folder(folder1)\n",
    "clean_folder(folder2)\n"
   ]
  },
  {
   "cell_type": "code",
   "execution_count": 7,
   "id": "4c8c538e-23d2-44c5-916f-cf93bddb7db3",
   "metadata": {},
   "outputs": [],
   "source": [
    "def preprocess_dataset(dataset):\n",
    "    def process_image(image, label):\n",
    "        image = tf.image.resize(image, [150, 150])  # Убедитесь, что все изображения одного размера\n",
    "        return image, label\n",
    "\n",
    "    return dataset.map(process_image)\n",
    "\n",
    "train_dataset = preprocess_dataset(train_dataset)\n",
    "val_dataset = preprocess_dataset(val_dataset)\n"
   ]
  },
  {
   "cell_type": "code",
   "execution_count": 8,
   "id": "a33a0789-76a4-4421-b75d-5666f4b1bb4a",
   "metadata": {},
   "outputs": [
    {
     "name": "stdout",
     "output_type": "stream",
     "text": [
      "Found 2000 files belonging to 2 classes.\n",
      "Using 1600 files for training.\n",
      "Found 1000 files belonging to 2 classes.\n",
      "Using 200 files for validation.\n"
     ]
    }
   ],
   "source": [
    "import tensorflow as tf\n",
    "from tensorflow.keras.preprocessing import image_dataset_from_directory\n",
    "\n",
    "# Загрузка данных\n",
    "train_dataset = image_dataset_from_directory(\n",
    "    'D:/PetImages/train',  # Путь к папке с изображениями для тренировки\n",
    "    image_size=(150, 150),  # Размер изображений\n",
    "    batch_size=32,  # Размер батча\n",
    "    label_mode='binary',  # Бинарные метки для классификации (кошки или собаки)\n",
    "    validation_split=0.2,  # Разделение на тренировочную и валидационную выборки\n",
    "    subset='training',  # Для тренировочной выборки\n",
    "    seed=123  # Для воспроизводимости\n",
    ")\n",
    "\n",
    "val_dataset = image_dataset_from_directory(\n",
    "    'D:/PetImages/validation',  # Путь к папке с изображениями для тренировки\n",
    "    image_size=(150, 150),  # Размер изображений\n",
    "    batch_size=32,  # Размер батча\n",
    "    label_mode='binary',  # Бинарные метки для классификации (кошки или собаки)\n",
    "    validation_split=0.2,  # Разделение на тренировочную и валидационную выборки\n",
    "    subset='validation',  # Для валидационной выборки\n",
    "    seed=123  # Для воспроизводимости\n",
    ")"
   ]
  },
  {
   "cell_type": "code",
   "execution_count": 9,
   "id": "5ba329b8-ec4f-45cb-8eff-a1151e9ab77c",
   "metadata": {},
   "outputs": [
    {
     "name": "stdout",
     "output_type": "stream",
     "text": [
      "Ошибка при обработке файла Tensor(\"args_0:0\", shape=(), dtype=string): 'images' contains no shape.\n"
     ]
    }
   ],
   "source": [
    "import tensorflow as tf\n",
    "import os\n",
    "\n",
    "# Параметры\n",
    "image_size = (150, 150)\n",
    "batch_size = 32\n",
    "validation_split = 0.2\n",
    "\n",
    "# Функция для проверки корректности изображения\n",
    "def is_image(file_path):\n",
    "    # Проверка расширения файла\n",
    "    valid_extensions = [\".jpg\", \".jpeg\", \".png\", \".bmp\"]\n",
    "    return any(file_path.lower().endswith(ext) for ext in valid_extensions)\n",
    "\n",
    "# Функция обработки изображений\n",
    "def process_image(file_path, label):\n",
    "    try:\n",
    "        img = tf.io.read_file(file_path)  # Чтение файла\n",
    "        img = tf.image.decode_image(img, channels=3)  # Универсальное декодирование изображения\n",
    "        img = tf.image.resize(img, image_size)  # Изменение размера\n",
    "        img = tf.cast(img, tf.float32) / 255.0  # Нормализация изображения (0-1)\n",
    "        return img, label\n",
    "    except Exception as e:\n",
    "        print(f\"Ошибка при обработке файла {file_path}: {e}\")\n",
    "        return None, label\n",
    "\n",
    "# Подготовка данных\n",
    "def prepare_dataset(directory):\n",
    "    file_paths = []  # Список путей к изображениям\n",
    "    labels = []  # Список меток\n",
    "\n",
    "    # Поиск всех файлов и присваивание меток\n",
    "    for root, _, files in os.walk(directory):\n",
    "        for file in files:\n",
    "            file_path = os.path.join(root, file)\n",
    "            if is_image(file_path):\n",
    "                file_paths.append(file_path)\n",
    "                labels.append(0 if \"cat\" in file.lower() else 1)  # Метка: 0 для \"cat\", 1 для \"dog\"\n",
    "\n",
    "    # Создание датасета\n",
    "    file_paths_dataset = tf.data.Dataset.from_tensor_slices(file_paths)\n",
    "    labels_dataset = tf.data.Dataset.from_tensor_slices(labels)\n",
    "    dataset = tf.data.Dataset.zip((file_paths_dataset, labels_dataset))\n",
    "\n",
    "    # Применение обработки\n",
    "    dataset = dataset.map(\n",
    "        lambda file_path, label: process_image(file_path, label),\n",
    "        num_parallel_calls=tf.data.AUTOTUNE\n",
    "    )\n",
    "\n",
    "    # Удаление некорректных данных\n",
    "    dataset = dataset.filter(lambda img, label: img is not None)\n",
    "\n",
    "    return dataset\n",
    "\n",
    "# Загрузка тренировочного и валидационного наборов\n",
    "train_dataset = prepare_dataset(\"D:/PetImages/train\")\n",
    "train_size = int((1 - validation_split) * len(list(train_dataset)))\n",
    "\n",
    "val_dataset = train_dataset.skip(train_size)\n",
    "train_dataset = train_dataset.take(train_size)\n",
    "\n",
    "# Батчи и предзагрузка\n",
    "train_dataset = train_dataset.batch(batch_size).prefetch(tf.data.AUTOTUNE)\n",
    "val_dataset = val_dataset.batch(batch_size).prefetch(tf.data.AUTOTUNE)\n"
   ]
  },
  {
   "cell_type": "code",
   "execution_count": 10,
   "id": "3b3470c2-873a-44c5-b382-e4587dbc27ae",
   "metadata": {},
   "outputs": [],
   "source": [
    "from tensorflow.keras import layers, models\n",
    "\n",
    "# Создание модели\n",
    "model = models.Sequential()\n",
    "\n",
    "# Сверточные слои\n",
    "model.add(layers.Conv2D(32, (3, 3), activation='relu', input_shape=(150, 150, 3)))\n",
    "model.add(layers.MaxPooling2D((2, 2)))\n",
    "\n",
    "model.add(layers.Conv2D(32, (3, 3), activation='relu'))\n",
    "model.add(layers.MaxPooling2D((2, 2)))\n",
    "\n",
    "model.add(layers.Conv2D(64, (3, 3), activation='relu'))\n",
    "model.add(layers.MaxPooling2D((2, 2)))\n",
    "\n",
    "model.add(layers.Conv2D(128, (3, 3), activation='relu'))\n",
    "model.add(layers.MaxPooling2D((2, 2)))\n",
    "\n",
    "# Полносвязные слои для классификации\n",
    "model.add(layers.Flatten())\n",
    "model.add(layers.Dense(128, activation='relu'))\n",
    "model.add(layers.Dense(256, activation='relu'))\n",
    "\n",
    "# Выходной слой\n",
    "model.add(layers.Dense(1, activation='sigmoid'))  # Для бинарной классификации (кошки/собаки)\n",
    "\n",
    "# Компиляция модели\n",
    "model.compile(optimizer='adam',\n",
    "              loss='binary_crossentropy',\n",
    "              metrics=['accuracy'])\n"
   ]
  },
  {
   "cell_type": "code",
   "execution_count": 11,
   "id": "8a2f04f8-25af-4ac7-ad42-75197d392c8a",
   "metadata": {},
   "outputs": [
    {
     "name": "stdout",
     "output_type": "stream",
     "text": [
      "Epoch 1/30\n"
     ]
    },
    {
     "ename": "TypeError",
     "evalue": "in user code:\n\n    File \"C:\\Users\\admin\\miniconda3\\envs\\gpu\\lib\\site-packages\\keras\\engine\\training.py\", line 1021, in train_function  *\n        return step_function(self, iterator)\n    File \"C:\\Users\\admin\\miniconda3\\envs\\gpu\\lib\\site-packages\\keras\\engine\\training.py\", line 1010, in step_function  **\n        outputs = model.distribute_strategy.run(run_step, args=(data,))\n    File \"C:\\Users\\admin\\miniconda3\\envs\\gpu\\lib\\site-packages\\keras\\engine\\training.py\", line 1000, in run_step  **\n        outputs = model.train_step(data)\n    File \"C:\\Users\\admin\\miniconda3\\envs\\gpu\\lib\\site-packages\\keras\\engine\\training.py\", line 859, in train_step\n        y_pred = self(x, training=True)\n    File \"C:\\Users\\admin\\miniconda3\\envs\\gpu\\lib\\site-packages\\keras\\utils\\traceback_utils.py\", line 67, in error_handler\n        raise e.with_traceback(filtered_tb) from None\n    File \"C:\\Users\\admin\\miniconda3\\envs\\gpu\\lib\\site-packages\\keras\\engine\\input_spec.py\", line 197, in assert_input_compatibility\n        raise TypeError(f'Inputs to a layer should be tensors. Got: {x}')\n\n    TypeError: Inputs to a layer should be tensors. Got: None\n",
     "output_type": "error",
     "traceback": [
      "\u001b[1;31m---------------------------------------------------------------------------\u001b[0m",
      "\u001b[1;31mTypeError\u001b[0m                                 Traceback (most recent call last)",
      "Cell \u001b[1;32mIn[11], line 1\u001b[0m\n\u001b[1;32m----> 1\u001b[0m history \u001b[38;5;241m=\u001b[39m \u001b[43mmodel\u001b[49m\u001b[38;5;241;43m.\u001b[39;49m\u001b[43mfit\u001b[49m\u001b[43m(\u001b[49m\n\u001b[0;32m      2\u001b[0m \u001b[43m    \u001b[49m\u001b[43mtrain_dataset\u001b[49m\u001b[43m,\u001b[49m\n\u001b[0;32m      3\u001b[0m \u001b[43m    \u001b[49m\u001b[43mepochs\u001b[49m\u001b[38;5;241;43m=\u001b[39;49m\u001b[38;5;241;43m30\u001b[39;49m\u001b[43m,\u001b[49m\u001b[43m  \u001b[49m\u001b[38;5;66;43;03m# Количество эпох\u001b[39;49;00m\n\u001b[0;32m      4\u001b[0m \u001b[43m    \u001b[49m\u001b[43mvalidation_data\u001b[49m\u001b[38;5;241;43m=\u001b[39;49m\u001b[43mval_dataset\u001b[49m\n\u001b[0;32m      5\u001b[0m \u001b[43m)\u001b[49m\n",
      "File \u001b[1;32m~\\miniconda3\\envs\\gpu\\lib\\site-packages\\keras\\utils\\traceback_utils.py:67\u001b[0m, in \u001b[0;36mfilter_traceback.<locals>.error_handler\u001b[1;34m(*args, **kwargs)\u001b[0m\n\u001b[0;32m     65\u001b[0m \u001b[38;5;28;01mexcept\u001b[39;00m \u001b[38;5;167;01mException\u001b[39;00m \u001b[38;5;28;01mas\u001b[39;00m e:  \u001b[38;5;66;03m# pylint: disable=broad-except\u001b[39;00m\n\u001b[0;32m     66\u001b[0m   filtered_tb \u001b[38;5;241m=\u001b[39m _process_traceback_frames(e\u001b[38;5;241m.\u001b[39m__traceback__)\n\u001b[1;32m---> 67\u001b[0m   \u001b[38;5;28;01mraise\u001b[39;00m e\u001b[38;5;241m.\u001b[39mwith_traceback(filtered_tb) \u001b[38;5;28;01mfrom\u001b[39;00m \u001b[38;5;28;01mNone\u001b[39;00m\n\u001b[0;32m     68\u001b[0m \u001b[38;5;28;01mfinally\u001b[39;00m:\n\u001b[0;32m     69\u001b[0m   \u001b[38;5;28;01mdel\u001b[39;00m filtered_tb\n",
      "File \u001b[1;32m~\\miniconda3\\envs\\gpu\\lib\\site-packages\\tensorflow\\python\\framework\\func_graph.py:1147\u001b[0m, in \u001b[0;36mfunc_graph_from_py_func.<locals>.autograph_handler\u001b[1;34m(*args, **kwargs)\u001b[0m\n\u001b[0;32m   1145\u001b[0m \u001b[38;5;28;01mexcept\u001b[39;00m \u001b[38;5;167;01mException\u001b[39;00m \u001b[38;5;28;01mas\u001b[39;00m e:  \u001b[38;5;66;03m# pylint:disable=broad-except\u001b[39;00m\n\u001b[0;32m   1146\u001b[0m   \u001b[38;5;28;01mif\u001b[39;00m \u001b[38;5;28mhasattr\u001b[39m(e, \u001b[38;5;124m\"\u001b[39m\u001b[38;5;124mag_error_metadata\u001b[39m\u001b[38;5;124m\"\u001b[39m):\n\u001b[1;32m-> 1147\u001b[0m     \u001b[38;5;28;01mraise\u001b[39;00m e\u001b[38;5;241m.\u001b[39mag_error_metadata\u001b[38;5;241m.\u001b[39mto_exception(e)\n\u001b[0;32m   1148\u001b[0m   \u001b[38;5;28;01melse\u001b[39;00m:\n\u001b[0;32m   1149\u001b[0m     \u001b[38;5;28;01mraise\u001b[39;00m\n",
      "\u001b[1;31mTypeError\u001b[0m: in user code:\n\n    File \"C:\\Users\\admin\\miniconda3\\envs\\gpu\\lib\\site-packages\\keras\\engine\\training.py\", line 1021, in train_function  *\n        return step_function(self, iterator)\n    File \"C:\\Users\\admin\\miniconda3\\envs\\gpu\\lib\\site-packages\\keras\\engine\\training.py\", line 1010, in step_function  **\n        outputs = model.distribute_strategy.run(run_step, args=(data,))\n    File \"C:\\Users\\admin\\miniconda3\\envs\\gpu\\lib\\site-packages\\keras\\engine\\training.py\", line 1000, in run_step  **\n        outputs = model.train_step(data)\n    File \"C:\\Users\\admin\\miniconda3\\envs\\gpu\\lib\\site-packages\\keras\\engine\\training.py\", line 859, in train_step\n        y_pred = self(x, training=True)\n    File \"C:\\Users\\admin\\miniconda3\\envs\\gpu\\lib\\site-packages\\keras\\utils\\traceback_utils.py\", line 67, in error_handler\n        raise e.with_traceback(filtered_tb) from None\n    File \"C:\\Users\\admin\\miniconda3\\envs\\gpu\\lib\\site-packages\\keras\\engine\\input_spec.py\", line 197, in assert_input_compatibility\n        raise TypeError(f'Inputs to a layer should be tensors. Got: {x}')\n\n    TypeError: Inputs to a layer should be tensors. Got: None\n"
     ]
    }
   ],
   "source": [
    "history = model.fit(\n",
    "    train_dataset,\n",
    "    epochs=30,  # Количество эпох\n",
    "    validation_data=val_dataset\n",
    ")\n"
   ]
  },
  {
   "cell_type": "code",
   "execution_count": null,
   "id": "b6f50077-4efc-4d18-89a6-4d6235190471",
   "metadata": {},
   "outputs": [],
   "source": [
    "import matplotlib.pyplot as plt\n",
    "\n",
    "# График точности\n",
    "plt.plot(history.history['accuracy'], label='Accuracy (train)')\n",
    "plt.plot(history.history['val_accuracy'], label='Accuracy (val)')\n",
    "plt.xlabel('Epochs')\n",
    "plt.ylabel('Accuracy')\n",
    "plt.legend()\n",
    "plt.title('Accuracy over epochs')\n",
    "plt.show()\n",
    "\n",
    "# График функции потерь\n",
    "plt.plot(history.history['loss'], label='Loss (train)')\n",
    "plt.plot(history.history['val_loss'], label='Loss (val)')\n",
    "plt.xlabel('Epochs')\n",
    "plt.ylabel('Loss')\n",
    "plt.legend()\n",
    "plt.title('Loss over epochs')\n",
    "plt.show()\n"
   ]
  }
 ],
 "metadata": {
  "kernelspec": {
   "display_name": "Python (myenv)",
   "language": "python",
   "name": "myenv"
  },
  "language_info": {
   "codemirror_mode": {
    "name": "ipython",
    "version": 3
   },
   "file_extension": ".py",
   "mimetype": "text/x-python",
   "name": "python",
   "nbconvert_exporter": "python",
   "pygments_lexer": "ipython3",
   "version": "3.9.21"
  }
 },
 "nbformat": 4,
 "nbformat_minor": 5
}
